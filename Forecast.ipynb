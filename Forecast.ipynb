{
 "cells": [
  {
   "cell_type": "code",
   "execution_count": 6,
   "id": "3dfc2cbf-fe1a-489e-8c74-31a24d34c666",
   "metadata": {},
   "outputs": [
    {
     "data": {
      "text/html": [
       "<div>\n",
       "<style scoped>\n",
       "    .dataframe tbody tr th:only-of-type {\n",
       "        vertical-align: middle;\n",
       "    }\n",
       "\n",
       "    .dataframe tbody tr th {\n",
       "        vertical-align: top;\n",
       "    }\n",
       "\n",
       "    .dataframe thead th {\n",
       "        text-align: right;\n",
       "    }\n",
       "</style>\n",
       "<table border=\"1\" class=\"dataframe\">\n",
       "  <thead>\n",
       "    <tr style=\"text-align: right;\">\n",
       "      <th></th>\n",
       "      <th>Unnamed: 0</th>\n",
       "      <th>Median house price</th>\n",
       "      <th>Westpac: 4 year forecast</th>\n",
       "      <th>Joe Bloggs: 2 year forecast</th>\n",
       "      <th>Harry Spent: 5 year forecast</th>\n",
       "    </tr>\n",
       "  </thead>\n",
       "  <tbody>\n",
       "    <tr>\n",
       "      <th>0</th>\n",
       "      <td>2011</td>\n",
       "      <td>340000</td>\n",
       "      <td>56%</td>\n",
       "      <td>23%</td>\n",
       "      <td>-20%</td>\n",
       "    </tr>\n",
       "    <tr>\n",
       "      <th>1</th>\n",
       "      <td>2012</td>\n",
       "      <td>370000</td>\n",
       "      <td>53%</td>\n",
       "      <td>34$</td>\n",
       "      <td>-80%</td>\n",
       "    </tr>\n",
       "    <tr>\n",
       "      <th>2</th>\n",
       "      <td>2013</td>\n",
       "      <td>350000</td>\n",
       "      <td>NaN</td>\n",
       "      <td>19%</td>\n",
       "      <td>-70%</td>\n",
       "    </tr>\n",
       "    <tr>\n",
       "      <th>3</th>\n",
       "      <td>2014</td>\n",
       "      <td>420000</td>\n",
       "      <td>13%</td>\n",
       "      <td>42%</td>\n",
       "      <td>-80%</td>\n",
       "    </tr>\n",
       "    <tr>\n",
       "      <th>4</th>\n",
       "      <td>2015</td>\n",
       "      <td>425000</td>\n",
       "      <td>33%</td>\n",
       "      <td>23%</td>\n",
       "      <td>-50%</td>\n",
       "    </tr>\n",
       "  </tbody>\n",
       "</table>\n",
       "</div>"
      ],
      "text/plain": [
       "   Unnamed: 0 Median house price Westpac: 4 year forecast  \\\n",
       "0        2011             340000                      56%   \n",
       "1        2012             370000                      53%   \n",
       "2        2013             350000                      NaN   \n",
       "3        2014             420000                      13%   \n",
       "4        2015             425000                      33%   \n",
       "\n",
       "  Joe Bloggs: 2 year forecast Harry Spent: 5 year forecast  \n",
       "0                         23%                         -20%  \n",
       "1                         34$                         -80%  \n",
       "2                         19%                         -70%  \n",
       "3                         42%                         -80%  \n",
       "4                         23%                         -50%  "
      ]
     },
     "execution_count": 6,
     "metadata": {},
     "output_type": "execute_result"
    }
   ],
   "source": [
    "import pandas as pd\n",
    "import numpy as np\n",
    "\n",
    "df = pd.read_csv('forecast_history.csv')\n",
    "df.head()"
   ]
  },
  {
   "cell_type": "code",
   "execution_count": 9,
   "id": "8c87bc09-d63a-4bc5-8d0e-3b51ee1bdc81",
   "metadata": {},
   "outputs": [
    {
     "name": "stdout",
     "output_type": "stream",
     "text": [
      "Index(['Year', 'Median house price', 'Westpac: 4 year forecast',\n",
      "       'Joe Bloggs: 2 year forecast', 'Harry Spent: 5 year forecast'],\n",
      "      dtype='object')\n"
     ]
    }
   ],
   "source": [
    "print(df.columns)"
   ]
  },
  {
   "cell_type": "code",
   "execution_count": 10,
   "id": "4e307249-a8ef-4fe7-9004-bab8863f543e",
   "metadata": {},
   "outputs": [
    {
     "name": "stdout",
     "output_type": "stream",
     "text": [
      "<class 'pandas.core.frame.DataFrame'>\n",
      "RangeIndex: 14 entries, 0 to 13\n",
      "Data columns (total 5 columns):\n",
      " #   Column                        Non-Null Count  Dtype \n",
      "---  ------                        --------------  ----- \n",
      " 0   Year                          14 non-null     int64 \n",
      " 1   Median house price            14 non-null     object\n",
      " 2   Westpac: 4 year forecast      13 non-null     object\n",
      " 3   Joe Bloggs: 2 year forecast   14 non-null     object\n",
      " 4   Harry Spent: 5 year forecast  13 non-null     object\n",
      "dtypes: int64(1), object(4)\n",
      "memory usage: 692.0+ bytes\n"
     ]
    }
   ],
   "source": [
    "df.info()"
   ]
  },
  {
   "cell_type": "code",
   "execution_count": 8,
   "id": "1a4bf402-20fa-486a-94b8-e77db140cec4",
   "metadata": {},
   "outputs": [
    {
     "data": {
      "text/html": [
       "<div>\n",
       "<style scoped>\n",
       "    .dataframe tbody tr th:only-of-type {\n",
       "        vertical-align: middle;\n",
       "    }\n",
       "\n",
       "    .dataframe tbody tr th {\n",
       "        vertical-align: top;\n",
       "    }\n",
       "\n",
       "    .dataframe thead th {\n",
       "        text-align: right;\n",
       "    }\n",
       "</style>\n",
       "<table border=\"1\" class=\"dataframe\">\n",
       "  <thead>\n",
       "    <tr style=\"text-align: right;\">\n",
       "      <th></th>\n",
       "      <th>Year</th>\n",
       "      <th>Median house price</th>\n",
       "      <th>Westpac: 4 year forecast</th>\n",
       "      <th>Joe Bloggs: 2 year forecast</th>\n",
       "      <th>Harry Spent: 5 year forecast</th>\n",
       "    </tr>\n",
       "  </thead>\n",
       "  <tbody>\n",
       "    <tr>\n",
       "      <th>0</th>\n",
       "      <td>2011</td>\n",
       "      <td>340000</td>\n",
       "      <td>56%</td>\n",
       "      <td>23%</td>\n",
       "      <td>-20%</td>\n",
       "    </tr>\n",
       "    <tr>\n",
       "      <th>1</th>\n",
       "      <td>2012</td>\n",
       "      <td>370000</td>\n",
       "      <td>53%</td>\n",
       "      <td>34$</td>\n",
       "      <td>-80%</td>\n",
       "    </tr>\n",
       "    <tr>\n",
       "      <th>2</th>\n",
       "      <td>2013</td>\n",
       "      <td>350000</td>\n",
       "      <td>NaN</td>\n",
       "      <td>19%</td>\n",
       "      <td>-70%</td>\n",
       "    </tr>\n",
       "    <tr>\n",
       "      <th>3</th>\n",
       "      <td>2014</td>\n",
       "      <td>420000</td>\n",
       "      <td>13%</td>\n",
       "      <td>42%</td>\n",
       "      <td>-80%</td>\n",
       "    </tr>\n",
       "    <tr>\n",
       "      <th>4</th>\n",
       "      <td>2015</td>\n",
       "      <td>425000</td>\n",
       "      <td>33%</td>\n",
       "      <td>23%</td>\n",
       "      <td>-50%</td>\n",
       "    </tr>\n",
       "  </tbody>\n",
       "</table>\n",
       "</div>"
      ],
      "text/plain": [
       "   Year Median house price Westpac: 4 year forecast  \\\n",
       "0  2011             340000                      56%   \n",
       "1  2012             370000                      53%   \n",
       "2  2013             350000                      NaN   \n",
       "3  2014             420000                      13%   \n",
       "4  2015             425000                      33%   \n",
       "\n",
       "  Joe Bloggs: 2 year forecast Harry Spent: 5 year forecast  \n",
       "0                         23%                         -20%  \n",
       "1                         34$                         -80%  \n",
       "2                         19%                         -70%  \n",
       "3                         42%                         -80%  \n",
       "4                         23%                         -50%  "
      ]
     },
     "execution_count": 8,
     "metadata": {},
     "output_type": "execute_result"
    }
   ],
   "source": [
    "df.rename(columns = {'Unnamed: 0' : 'Year'}, inplace = True)\n",
    "df.head()"
   ]
  },
  {
   "cell_type": "code",
   "execution_count": 15,
   "id": "fa61dece-0931-4172-8358-ee8c6cab8c3e",
   "metadata": {},
   "outputs": [
    {
     "data": {
      "text/html": [
       "<div>\n",
       "<style scoped>\n",
       "    .dataframe tbody tr th:only-of-type {\n",
       "        vertical-align: middle;\n",
       "    }\n",
       "\n",
       "    .dataframe tbody tr th {\n",
       "        vertical-align: top;\n",
       "    }\n",
       "\n",
       "    .dataframe thead th {\n",
       "        text-align: right;\n",
       "    }\n",
       "</style>\n",
       "<table border=\"1\" class=\"dataframe\">\n",
       "  <thead>\n",
       "    <tr style=\"text-align: right;\">\n",
       "      <th></th>\n",
       "      <th>Year</th>\n",
       "      <th>Median house price</th>\n",
       "      <th>Westpac: 4 year forecast</th>\n",
       "      <th>Joe Bloggs: 2 year forecast</th>\n",
       "      <th>Harry Spent: 5 year forecast</th>\n",
       "    </tr>\n",
       "  </thead>\n",
       "  <tbody>\n",
       "    <tr>\n",
       "      <th>13</th>\n",
       "      <td>2024</td>\n",
       "      <td>760O00</td>\n",
       "      <td>-10%</td>\n",
       "      <td>-2%</td>\n",
       "      <td>-80%</td>\n",
       "    </tr>\n",
       "  </tbody>\n",
       "</table>\n",
       "</div>"
      ],
      "text/plain": [
       "    Year Median house price Westpac: 4 year forecast  \\\n",
       "13  2024             760O00                     -10%   \n",
       "\n",
       "   Joe Bloggs: 2 year forecast Harry Spent: 5 year forecast  \n",
       "13                         -2%                         -80%  "
      ]
     },
     "execution_count": 15,
     "metadata": {},
     "output_type": "execute_result"
    }
   ],
   "source": [
    "def is_numeric(value):\n",
    "    try:\n",
    "        float(value)\n",
    "        return True\n",
    "    except ValueError:\n",
    "        return False\n",
    "\n",
    "# Filter non-numeric values\n",
    "non_numeric = df[~df['Median house price'].apply(is_numeric)]\n",
    "non_numeric"
   ]
  },
  {
   "cell_type": "code",
   "execution_count": 17,
   "id": "81ac823d-cb79-4832-804c-92ab528a63d4",
   "metadata": {},
   "outputs": [
    {
     "data": {
      "text/plain": [
       "0"
      ]
     },
     "execution_count": 17,
     "metadata": {},
     "output_type": "execute_result"
    }
   ],
   "source": [
    "df.loc[df['Median house price']=='760O00'] = 760000\n",
    "non_numeric = df[~df['Median house price'].apply(is_numeric)]\n",
    "len(non_numeric)"
   ]
  },
  {
   "cell_type": "code",
   "execution_count": 18,
   "id": "ab4e9edb-8e6b-441b-8322-dcf54684cb34",
   "metadata": {},
   "outputs": [
    {
     "data": {
      "text/plain": [
       "Year                            0\n",
       "Median house price              0\n",
       "Westpac: 4 year forecast        1\n",
       "Joe Bloggs: 2 year forecast     0\n",
       "Harry Spent: 5 year forecast    1\n",
       "dtype: int64"
      ]
     },
     "execution_count": 18,
     "metadata": {},
     "output_type": "execute_result"
    }
   ],
   "source": [
    "df.isnull().sum()"
   ]
  },
  {
   "cell_type": "code",
   "execution_count": 19,
   "id": "a8f39751-86e8-4061-837c-6ae16a2116dc",
   "metadata": {},
   "outputs": [
    {
     "data": {
      "text/html": [
       "<div>\n",
       "<style scoped>\n",
       "    .dataframe tbody tr th:only-of-type {\n",
       "        vertical-align: middle;\n",
       "    }\n",
       "\n",
       "    .dataframe tbody tr th {\n",
       "        vertical-align: top;\n",
       "    }\n",
       "\n",
       "    .dataframe thead th {\n",
       "        text-align: right;\n",
       "    }\n",
       "</style>\n",
       "<table border=\"1\" class=\"dataframe\">\n",
       "  <thead>\n",
       "    <tr style=\"text-align: right;\">\n",
       "      <th></th>\n",
       "      <th>Year</th>\n",
       "      <th>Median house price</th>\n",
       "      <th>Westpac: 4 year forecast</th>\n",
       "      <th>Joe Bloggs: 2 year forecast</th>\n",
       "      <th>Harry Spent: 5 year forecast</th>\n",
       "    </tr>\n",
       "  </thead>\n",
       "  <tbody>\n",
       "    <tr>\n",
       "      <th>2</th>\n",
       "      <td>2013</td>\n",
       "      <td>350000</td>\n",
       "      <td>NaN</td>\n",
       "      <td>19%</td>\n",
       "      <td>-70%</td>\n",
       "    </tr>\n",
       "  </tbody>\n",
       "</table>\n",
       "</div>"
      ],
      "text/plain": [
       "   Year Median house price Westpac: 4 year forecast  \\\n",
       "2  2013             350000                      NaN   \n",
       "\n",
       "  Joe Bloggs: 2 year forecast Harry Spent: 5 year forecast  \n",
       "2                         19%                         -70%  "
      ]
     },
     "execution_count": 19,
     "metadata": {},
     "output_type": "execute_result"
    }
   ],
   "source": [
    "df[df['Westpac: 4 year forecast'].isna()]"
   ]
  },
  {
   "cell_type": "code",
   "execution_count": 20,
   "id": "88d94cd2-0999-4b6e-b824-01c6b78d1eef",
   "metadata": {},
   "outputs": [
    {
     "data": {
      "text/html": [
       "<div>\n",
       "<style scoped>\n",
       "    .dataframe tbody tr th:only-of-type {\n",
       "        vertical-align: middle;\n",
       "    }\n",
       "\n",
       "    .dataframe tbody tr th {\n",
       "        vertical-align: top;\n",
       "    }\n",
       "\n",
       "    .dataframe thead th {\n",
       "        text-align: right;\n",
       "    }\n",
       "</style>\n",
       "<table border=\"1\" class=\"dataframe\">\n",
       "  <thead>\n",
       "    <tr style=\"text-align: right;\">\n",
       "      <th></th>\n",
       "      <th>Year</th>\n",
       "      <th>Median house price</th>\n",
       "      <th>Westpac: 4 year forecast</th>\n",
       "      <th>Joe Bloggs: 2 year forecast</th>\n",
       "      <th>Harry Spent: 5 year forecast</th>\n",
       "    </tr>\n",
       "  </thead>\n",
       "  <tbody>\n",
       "    <tr>\n",
       "      <th>7</th>\n",
       "      <td>2018</td>\n",
       "      <td>550000</td>\n",
       "      <td>34%</td>\n",
       "      <td>18%</td>\n",
       "      <td>NaN</td>\n",
       "    </tr>\n",
       "  </tbody>\n",
       "</table>\n",
       "</div>"
      ],
      "text/plain": [
       "   Year Median house price Westpac: 4 year forecast  \\\n",
       "7  2018             550000                      34%   \n",
       "\n",
       "  Joe Bloggs: 2 year forecast Harry Spent: 5 year forecast  \n",
       "7                         18%                          NaN  "
      ]
     },
     "execution_count": 20,
     "metadata": {},
     "output_type": "execute_result"
    }
   ],
   "source": [
    "df[df['Harry Spent: 5 year forecast'].isna()]"
   ]
  },
  {
   "cell_type": "code",
   "execution_count": 23,
   "id": "02f3f554-7eff-4251-94aa-91b30c6a28a2",
   "metadata": {},
   "outputs": [],
   "source": [
    "df.rename(columns={'Westpac: 4 year forecast' : 'Westpac: 4 year forecast (%)', \n",
    "                  'Joe Bloggs: 2 year forecast' : 'Joe Bloggs: 2 year forecast (%)',\n",
    "                  'Harry Spent: 5 year forecast' : 'Harry Spent: 5 year forecast (%)'}, inplace=True)\n",
    "df['Westpac: 4 year forecast (%)'] = df['Westpac: 4 year forecast (%)'].str.replace('%', '', regex=False)\n",
    "df['Joe Bloggs: 2 year forecast (%)'] = df['Joe Bloggs: 2 year forecast (%)'].str.replace('%', '', regex=False)\n",
    "df['Harry Spent: 5 year forecast (%)'] = df['Harry Spent: 5 year forecast (%)'].str.replace('%', '', regex=False)"
   ]
  },
  {
   "cell_type": "code",
   "execution_count": 25,
   "id": "5ac18113-5d15-4f57-8a17-801c09d0124a",
   "metadata": {},
   "outputs": [
    {
     "data": {
      "text/html": [
       "<div>\n",
       "<style scoped>\n",
       "    .dataframe tbody tr th:only-of-type {\n",
       "        vertical-align: middle;\n",
       "    }\n",
       "\n",
       "    .dataframe tbody tr th {\n",
       "        vertical-align: top;\n",
       "    }\n",
       "\n",
       "    .dataframe thead th {\n",
       "        text-align: right;\n",
       "    }\n",
       "</style>\n",
       "<table border=\"1\" class=\"dataframe\">\n",
       "  <thead>\n",
       "    <tr style=\"text-align: right;\">\n",
       "      <th></th>\n",
       "      <th>Year</th>\n",
       "      <th>Median house price</th>\n",
       "      <th>Westpac: 4 year forecast (%)</th>\n",
       "      <th>Joe Bloggs: 2 year forecast (%)</th>\n",
       "      <th>Harry Spent: 5 year forecast (%)</th>\n",
       "    </tr>\n",
       "  </thead>\n",
       "  <tbody>\n",
       "    <tr>\n",
       "      <th>12</th>\n",
       "      <td>2023</td>\n",
       "      <td>73000</td>\n",
       "      <td>I5</td>\n",
       "      <td>7</td>\n",
       "      <td>-80</td>\n",
       "    </tr>\n",
       "  </tbody>\n",
       "</table>\n",
       "</div>"
      ],
      "text/plain": [
       "    Year Median house price Westpac: 4 year forecast (%)  \\\n",
       "12  2023              73000                           I5   \n",
       "\n",
       "   Joe Bloggs: 2 year forecast (%) Harry Spent: 5 year forecast (%)  \n",
       "12                               7                              -80  "
      ]
     },
     "execution_count": 25,
     "metadata": {},
     "output_type": "execute_result"
    }
   ],
   "source": [
    "non_numeric = df[~df['Westpac: 4 year forecast (%)'].apply(is_numeric)]\n",
    "non_numeric"
   ]
  },
  {
   "cell_type": "code",
   "execution_count": 27,
   "id": "6e4b80ac-9cd4-4b18-82ea-6a6df33376f7",
   "metadata": {},
   "outputs": [],
   "source": [
    "df.loc[df['Westpac: 4 year forecast (%)']=='I5']=15"
   ]
  },
  {
   "cell_type": "code",
   "execution_count": 33,
   "id": "0b2ae40f-e26a-44d9-b83c-b0fed250861c",
   "metadata": {},
   "outputs": [],
   "source": [
    "df=df.fillna(0)"
   ]
  },
  {
   "cell_type": "code",
   "execution_count": 35,
   "id": "611fab40-d82d-4359-bece-1733fd8b94a1",
   "metadata": {},
   "outputs": [],
   "source": [
    "df.loc[df['Joe Bloggs: 2 year forecast (%)']=='34$']=34"
   ]
  },
  {
   "cell_type": "code",
   "execution_count": 36,
   "id": "f20cb7c3-a24d-4573-a091-4b18b2914883",
   "metadata": {},
   "outputs": [],
   "source": [
    "df=df.astype(float)"
   ]
  },
  {
   "cell_type": "code",
   "execution_count": 40,
   "id": "0e7f391a-f81a-47ea-b459-2414c6ab9158",
   "metadata": {},
   "outputs": [
    {
     "name": "stdout",
     "output_type": "stream",
     "text": [
      "count    14.000000\n",
      "mean     19.571429\n",
      "std      21.121314\n",
      "min     -20.000000\n",
      "25%       3.250000\n",
      "50%      17.500000\n",
      "75%      34.000000\n",
      "max      56.000000\n",
      "Name: Westpac: 4 year forecast (%), dtype: float64\n"
     ]
    }
   ],
   "source": [
    "print(df['Westpac: 4 year forecast (%)'].describe())"
   ]
  },
  {
   "cell_type": "code",
   "execution_count": 38,
   "id": "c67dfebf-0550-4745-8c3c-c3189b45c842",
   "metadata": {},
   "outputs": [
    {
     "data": {
      "text/plain": [
       "count      14.000000\n",
       "mean      125.142857\n",
       "std       395.842404\n",
       "min         0.000000\n",
       "25%        15.000000\n",
       "50%        19.000000\n",
       "75%        23.000000\n",
       "max      1500.000000\n",
       "Name: Joe Bloggs: 2 year forecast (%), dtype: float64"
      ]
     },
     "execution_count": 38,
     "metadata": {},
     "output_type": "execute_result"
    }
   ],
   "source": [
    "df['Joe Bloggs: 2 year forecast (%)'].describe()"
   ]
  },
  {
   "cell_type": "code",
   "execution_count": 39,
   "id": "e1e74a7a-2439-41e0-9be6-12e9cb9f04f3",
   "metadata": {},
   "outputs": [
    {
     "data": {
      "text/plain": [
       "count     14.000000\n",
       "mean     -44.285714\n",
       "std       44.449502\n",
       "min     -110.000000\n",
       "25%      -77.500000\n",
       "50%      -55.000000\n",
       "75%       -5.000000\n",
       "max       34.000000\n",
       "Name: Harry Spent: 5 year forecast (%), dtype: float64"
      ]
     },
     "execution_count": 39,
     "metadata": {},
     "output_type": "execute_result"
    }
   ],
   "source": [
    "df['Harry Spent: 5 year forecast (%)'].describe()"
   ]
  },
  {
   "cell_type": "code",
   "execution_count": null,
   "id": "da6312f1-9915-43aa-8c54-0af5acbaa4b6",
   "metadata": {},
   "outputs": [],
   "source": []
  }
 ],
 "metadata": {
  "kernelspec": {
   "display_name": "Python 3 (ipykernel)",
   "language": "python",
   "name": "python3"
  },
  "language_info": {
   "codemirror_mode": {
    "name": "ipython",
    "version": 3
   },
   "file_extension": ".py",
   "mimetype": "text/x-python",
   "name": "python",
   "nbconvert_exporter": "python",
   "pygments_lexer": "ipython3",
   "version": "3.12.4"
  }
 },
 "nbformat": 4,
 "nbformat_minor": 5
}
